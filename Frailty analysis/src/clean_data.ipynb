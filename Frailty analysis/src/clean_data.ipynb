{
 "cells": [
  {
   "cell_type": "code",
   "execution_count": 41,
   "id": "dc91d300",
   "metadata": {},
   "outputs": [],
   "source": [
    "import pandas as pd"
   ]
  },
  {
   "cell_type": "code",
   "execution_count": 42,
   "id": "1e4f7688",
   "metadata": {},
   "outputs": [],
   "source": [
    "frailty = pd.read_csv(r\"C:\\umkc\\courses\\pds\\assignments\\Frailty analysis\\data_raw\\data_frailty_raw.csv\" , encoding = \"ISO-8859-1\")"
   ]
  },
  {
   "cell_type": "code",
   "execution_count": 43,
   "id": "25628f6c",
   "metadata": {},
   "outputs": [
    {
     "data": {
      "text/html": [
       "<div>\n",
       "<style scoped>\n",
       "    .dataframe tbody tr th:only-of-type {\n",
       "        vertical-align: middle;\n",
       "    }\n",
       "\n",
       "    .dataframe tbody tr th {\n",
       "        vertical-align: top;\n",
       "    }\n",
       "\n",
       "    .dataframe thead th {\n",
       "        text-align: right;\n",
       "    }\n",
       "</style>\n",
       "<table border=\"1\" class=\"dataframe\">\n",
       "  <thead>\n",
       "    <tr style=\"text-align: right;\">\n",
       "      <th></th>\n",
       "      <th>Height</th>\n",
       "      <th>Weight</th>\n",
       "      <th>Age</th>\n",
       "      <th>Grip strength</th>\n",
       "      <th>Frailty</th>\n",
       "    </tr>\n",
       "  </thead>\n",
       "  <tbody>\n",
       "    <tr>\n",
       "      <th>0</th>\n",
       "      <td>65.8</td>\n",
       "      <td>112</td>\n",
       "      <td>30</td>\n",
       "      <td>30</td>\n",
       "      <td>N</td>\n",
       "    </tr>\n",
       "    <tr>\n",
       "      <th>1</th>\n",
       "      <td>71.5</td>\n",
       "      <td>136</td>\n",
       "      <td>19</td>\n",
       "      <td>31</td>\n",
       "      <td>N</td>\n",
       "    </tr>\n",
       "    <tr>\n",
       "      <th>2</th>\n",
       "      <td>69.4</td>\n",
       "      <td>153</td>\n",
       "      <td>45</td>\n",
       "      <td>29</td>\n",
       "      <td>N</td>\n",
       "    </tr>\n",
       "    <tr>\n",
       "      <th>3</th>\n",
       "      <td>68.2</td>\n",
       "      <td>142</td>\n",
       "      <td>22</td>\n",
       "      <td>28</td>\n",
       "      <td>Y</td>\n",
       "    </tr>\n",
       "    <tr>\n",
       "      <th>4</th>\n",
       "      <td>67.8</td>\n",
       "      <td>144</td>\n",
       "      <td>29</td>\n",
       "      <td>24</td>\n",
       "      <td>Y</td>\n",
       "    </tr>\n",
       "  </tbody>\n",
       "</table>\n",
       "</div>"
      ],
      "text/plain": [
       "  Height  Weight  Age  Grip strength  Frailty \n",
       "0   65.8     112   30             30        N \n",
       "1   71.5     136   19             31        N \n",
       "2   69.4     153   45             29        N \n",
       "3   68.2     142   22             28        Y \n",
       "4   67.8     144   29             24        Y "
      ]
     },
     "execution_count": 43,
     "metadata": {},
     "output_type": "execute_result"
    }
   ],
   "source": [
    "frailty.head()"
   ]
  },
  {
   "cell_type": "code",
   "execution_count": 44,
   "id": "4b15db15",
   "metadata": {},
   "outputs": [
    {
     "name": "stdout",
     "output_type": "stream",
     "text": [
      "Index(['Height ', 'Weight ', 'Age ', 'Grip strength ', 'Frailty '], dtype='object')\n",
      "Height            object\n",
      "Weight            object\n",
      "Age               object\n",
      "Grip strength     object\n",
      "Frailty           object\n",
      "dtype: object\n",
      "Index(['Height ', 'Weight ', 'Age ', 'Grip strength ', 'Frailty ', 'Weight'], dtype='object')\n"
     ]
    }
   ],
   "source": [
    "print(frailty.columns)\n",
    "print(frailty.dtypes)\n",
    "frailty['Weight'] = frailty['Weight '].astype(float)\n",
    "print(frailty.columns)"
   ]
  },
  {
   "cell_type": "code",
   "execution_count": 45,
   "id": "3d151f3c-9011-4fb7-aafe-c46d280f0366",
   "metadata": {},
   "outputs": [],
   "source": [
    "frailty['Weight'] = frailty['Weight']/2.2046"
   ]
  },
  {
   "cell_type": "code",
   "execution_count": 46,
   "id": "2cc11bcd-bdcd-4732-9d12-f496bb1aed4a",
   "metadata": {},
   "outputs": [
    {
     "data": {
      "text/html": [
       "<div>\n",
       "<style scoped>\n",
       "    .dataframe tbody tr th:only-of-type {\n",
       "        vertical-align: middle;\n",
       "    }\n",
       "\n",
       "    .dataframe tbody tr th {\n",
       "        vertical-align: top;\n",
       "    }\n",
       "\n",
       "    .dataframe thead th {\n",
       "        text-align: right;\n",
       "    }\n",
       "</style>\n",
       "<table border=\"1\" class=\"dataframe\">\n",
       "  <thead>\n",
       "    <tr style=\"text-align: right;\">\n",
       "      <th></th>\n",
       "      <th>Height</th>\n",
       "      <th>Weight</th>\n",
       "      <th>Age</th>\n",
       "      <th>Grip strength</th>\n",
       "      <th>Frailty</th>\n",
       "      <th>Weight</th>\n",
       "    </tr>\n",
       "  </thead>\n",
       "  <tbody>\n",
       "    <tr>\n",
       "      <th>0</th>\n",
       "      <td>65.8</td>\n",
       "      <td>112</td>\n",
       "      <td>30</td>\n",
       "      <td>30</td>\n",
       "      <td>N</td>\n",
       "      <td>50.802867</td>\n",
       "    </tr>\n",
       "    <tr>\n",
       "      <th>1</th>\n",
       "      <td>71.5</td>\n",
       "      <td>136</td>\n",
       "      <td>19</td>\n",
       "      <td>31</td>\n",
       "      <td>N</td>\n",
       "      <td>61.689195</td>\n",
       "    </tr>\n",
       "    <tr>\n",
       "      <th>2</th>\n",
       "      <td>69.4</td>\n",
       "      <td>153</td>\n",
       "      <td>45</td>\n",
       "      <td>29</td>\n",
       "      <td>N</td>\n",
       "      <td>69.400345</td>\n",
       "    </tr>\n",
       "    <tr>\n",
       "      <th>3</th>\n",
       "      <td>68.2</td>\n",
       "      <td>142</td>\n",
       "      <td>22</td>\n",
       "      <td>28</td>\n",
       "      <td>Y</td>\n",
       "      <td>64.410777</td>\n",
       "    </tr>\n",
       "    <tr>\n",
       "      <th>4</th>\n",
       "      <td>67.8</td>\n",
       "      <td>144</td>\n",
       "      <td>29</td>\n",
       "      <td>24</td>\n",
       "      <td>Y</td>\n",
       "      <td>65.317972</td>\n",
       "    </tr>\n",
       "  </tbody>\n",
       "</table>\n",
       "</div>"
      ],
      "text/plain": [
       "  Height  Weight  Age  Grip strength  Frailty      Weight\n",
       "0   65.8     112   30             30        N   50.802867\n",
       "1   71.5     136   19             31        N   61.689195\n",
       "2   69.4     153   45             29        N   69.400345\n",
       "3   68.2     142   22             28        Y   64.410777\n",
       "4   67.8     144   29             24        Y   65.317972"
      ]
     },
     "execution_count": 46,
     "metadata": {},
     "output_type": "execute_result"
    }
   ],
   "source": [
    "frailty.head()"
   ]
  },
  {
   "cell_type": "code",
   "execution_count": 47,
   "id": "ce8590eb-0cad-4aed-b68d-84286bed82ea",
   "metadata": {},
   "outputs": [],
   "source": [
    "frailty['Weight '] = frailty.pop('Weight')"
   ]
  },
  {
   "cell_type": "code",
   "execution_count": 49,
   "id": "0e475eb5-8ec9-469a-88f4-d2fb4c780e8c",
   "metadata": {},
   "outputs": [],
   "source": [
    "frailty.to_csv(\"data_clean.csv\", index=\"False\", encoding=\"ISO-8859-1\")"
   ]
  }
 ],
 "metadata": {
  "kernelspec": {
   "display_name": "Python 3 (ipykernel)",
   "language": "python",
   "name": "python3"
  },
  "language_info": {
   "codemirror_mode": {
    "name": "ipython",
    "version": 3
   },
   "file_extension": ".py",
   "mimetype": "text/x-python",
   "name": "python",
   "nbconvert_exporter": "python",
   "pygments_lexer": "ipython3",
   "version": "3.10.9"
  }
 },
 "nbformat": 4,
 "nbformat_minor": 5
}
