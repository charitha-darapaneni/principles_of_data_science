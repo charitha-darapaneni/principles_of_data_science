{
 "cells": [
  {
   "cell_type": "code",
   "execution_count": 1,
   "id": "b4eaa9ca-3aa0-4a28-ad3f-04a649ae5073",
   "metadata": {},
   "outputs": [],
   "source": [
    "import pandas as pd\n",
    "import scipy.stats as stats"
   ]
  },
  {
   "cell_type": "code",
   "execution_count": 2,
   "id": "2f9aed88-6fb1-4877-9a2e-6880f51572c0",
   "metadata": {},
   "outputs": [],
   "source": [
    "frailty = pd.read_csv(r\"C:\\umkc\\courses\\pds\\assignments\\Frailty analysis\\data_clean\\data_clean.csv\" , encoding = \"ISO-8859-1\")"
   ]
  },
  {
   "cell_type": "code",
   "execution_count": 3,
   "id": "55691761-3839-4ccb-8bd8-ff4a31b57a04",
   "metadata": {},
   "outputs": [],
   "source": [
    "frailty.columns = frailty.columns.str.strip()"
   ]
  },
  {
   "cell_type": "code",
   "execution_count": 4,
   "id": "b2fe0f59-c539-460b-a94b-2d5798da1a88",
   "metadata": {},
   "outputs": [
    {
     "data": {
      "text/html": [
       "<div>\n",
       "<style scoped>\n",
       "    .dataframe tbody tr th:only-of-type {\n",
       "        vertical-align: middle;\n",
       "    }\n",
       "\n",
       "    .dataframe tbody tr th {\n",
       "        vertical-align: top;\n",
       "    }\n",
       "\n",
       "    .dataframe thead th {\n",
       "        text-align: right;\n",
       "    }\n",
       "</style>\n",
       "<table border=\"1\" class=\"dataframe\">\n",
       "  <thead>\n",
       "    <tr style=\"text-align: right;\">\n",
       "      <th></th>\n",
       "      <th>Height</th>\n",
       "      <th>Weight</th>\n",
       "      <th>Age</th>\n",
       "      <th>Grip strength</th>\n",
       "      <th>Frailty</th>\n",
       "    </tr>\n",
       "  </thead>\n",
       "  <tbody>\n",
       "    <tr>\n",
       "      <th>0</th>\n",
       "      <td>65.8</td>\n",
       "      <td>50.802867</td>\n",
       "      <td>30</td>\n",
       "      <td>30</td>\n",
       "      <td>N</td>\n",
       "    </tr>\n",
       "    <tr>\n",
       "      <th>1</th>\n",
       "      <td>71.5</td>\n",
       "      <td>61.689195</td>\n",
       "      <td>19</td>\n",
       "      <td>31</td>\n",
       "      <td>N</td>\n",
       "    </tr>\n",
       "    <tr>\n",
       "      <th>2</th>\n",
       "      <td>69.4</td>\n",
       "      <td>69.400345</td>\n",
       "      <td>45</td>\n",
       "      <td>29</td>\n",
       "      <td>N</td>\n",
       "    </tr>\n",
       "    <tr>\n",
       "      <th>3</th>\n",
       "      <td>68.2</td>\n",
       "      <td>64.410777</td>\n",
       "      <td>22</td>\n",
       "      <td>28</td>\n",
       "      <td>Y</td>\n",
       "    </tr>\n",
       "    <tr>\n",
       "      <th>4</th>\n",
       "      <td>67.8</td>\n",
       "      <td>65.317972</td>\n",
       "      <td>29</td>\n",
       "      <td>24</td>\n",
       "      <td>Y</td>\n",
       "    </tr>\n",
       "  </tbody>\n",
       "</table>\n",
       "</div>"
      ],
      "text/plain": [
       "  Height     Weight  Age Grip strength Frailty\n",
       "0  65.8   50.802867  30            30       N \n",
       "1  71.5   61.689195  19            31       N \n",
       "2  69.4   69.400345  45            29       N \n",
       "3  68.2   64.410777  22            28       Y \n",
       "4  67.8   65.317972  29            24       Y "
      ]
     },
     "execution_count": 4,
     "metadata": {},
     "output_type": "execute_result"
    }
   ],
   "source": [
    "frailty.head()"
   ]
  },
  {
   "cell_type": "code",
   "execution_count": 5,
   "id": "176f0063-e38c-4943-931a-1ed2e2b65a6f",
   "metadata": {},
   "outputs": [
    {
     "name": "stdout",
     "output_type": "stream",
     "text": [
      "Index(['Height', 'Weight', 'Age', 'Grip strength', 'Frailty'], dtype='object')\n"
     ]
    }
   ],
   "source": [
    "print(frailty.columns)"
   ]
  },
  {
   "cell_type": "code",
   "execution_count": 6,
   "id": "839c937a-7811-40d5-8532-54688fef2edd",
   "metadata": {},
   "outputs": [],
   "source": [
    "frailty['Frailty'] = frailty['Frailty'].str.strip()\n",
    "frailty['Age'] = frailty['Age'].astype(int)"
   ]
  },
  {
   "cell_type": "code",
   "execution_count": 7,
   "id": "ebb0c0c6-f453-420e-8f68-6c372eb46112",
   "metadata": {},
   "outputs": [],
   "source": [
    "frailty['Frailty01'] = frailty['Frailty'].map({'N': 0, 'Y': 1})"
   ]
  },
  {
   "cell_type": "code",
   "execution_count": 8,
   "id": "613cc203-c12b-461b-a804-649e6b648064",
   "metadata": {},
   "outputs": [
    {
     "data": {
      "text/html": [
       "<div>\n",
       "<style scoped>\n",
       "    .dataframe tbody tr th:only-of-type {\n",
       "        vertical-align: middle;\n",
       "    }\n",
       "\n",
       "    .dataframe tbody tr th {\n",
       "        vertical-align: top;\n",
       "    }\n",
       "\n",
       "    .dataframe thead th {\n",
       "        text-align: right;\n",
       "    }\n",
       "</style>\n",
       "<table border=\"1\" class=\"dataframe\">\n",
       "  <thead>\n",
       "    <tr style=\"text-align: right;\">\n",
       "      <th></th>\n",
       "      <th>Height</th>\n",
       "      <th>Weight</th>\n",
       "      <th>Age</th>\n",
       "      <th>Grip strength</th>\n",
       "      <th>Frailty</th>\n",
       "      <th>Frailty01</th>\n",
       "    </tr>\n",
       "  </thead>\n",
       "  <tbody>\n",
       "    <tr>\n",
       "      <th>0</th>\n",
       "      <td>65.8</td>\n",
       "      <td>50.802867</td>\n",
       "      <td>30</td>\n",
       "      <td>30</td>\n",
       "      <td>N</td>\n",
       "      <td>0</td>\n",
       "    </tr>\n",
       "    <tr>\n",
       "      <th>1</th>\n",
       "      <td>71.5</td>\n",
       "      <td>61.689195</td>\n",
       "      <td>19</td>\n",
       "      <td>31</td>\n",
       "      <td>N</td>\n",
       "      <td>0</td>\n",
       "    </tr>\n",
       "    <tr>\n",
       "      <th>2</th>\n",
       "      <td>69.4</td>\n",
       "      <td>69.400345</td>\n",
       "      <td>45</td>\n",
       "      <td>29</td>\n",
       "      <td>N</td>\n",
       "      <td>0</td>\n",
       "    </tr>\n",
       "    <tr>\n",
       "      <th>3</th>\n",
       "      <td>68.2</td>\n",
       "      <td>64.410777</td>\n",
       "      <td>22</td>\n",
       "      <td>28</td>\n",
       "      <td>Y</td>\n",
       "      <td>1</td>\n",
       "    </tr>\n",
       "    <tr>\n",
       "      <th>4</th>\n",
       "      <td>67.8</td>\n",
       "      <td>65.317972</td>\n",
       "      <td>29</td>\n",
       "      <td>24</td>\n",
       "      <td>Y</td>\n",
       "      <td>1</td>\n",
       "    </tr>\n",
       "  </tbody>\n",
       "</table>\n",
       "</div>"
      ],
      "text/plain": [
       "  Height     Weight  Age Grip strength Frailty  Frailty01\n",
       "0  65.8   50.802867   30           30        N          0\n",
       "1  71.5   61.689195   19           31        N          0\n",
       "2  69.4   69.400345   45           29        N          0\n",
       "3  68.2   64.410777   22           28        Y          1\n",
       "4  67.8   65.317972   29           24        Y          1"
      ]
     },
     "execution_count": 8,
     "metadata": {},
     "output_type": "execute_result"
    }
   ],
   "source": [
    "frailty.head()"
   ]
  },
  {
   "cell_type": "code",
   "execution_count": 9,
   "id": "28d2ed4e-f326-4f5a-b5cf-5965fbdf67e0",
   "metadata": {},
   "outputs": [],
   "source": [
    "t_test = stats.ttest_ind(a=frailty['Age'], b=frailty['Frailty01'], equal_var=True)"
   ]
  },
  {
   "cell_type": "code",
   "execution_count": 10,
   "id": "d1fe4689-34d2-47e2-957b-a4375a58eac8",
   "metadata": {},
   "outputs": [],
   "source": [
    "filepath = r\"C:\\umkc\\courses\\pds\\assignments\\Frailty analysis\\results\""
   ]
  },
  {
   "cell_type": "code",
   "execution_count": 15,
   "id": "ff6a81a2-bfd7-4acc-995d-6b5e93a8b6e4",
   "metadata": {},
   "outputs": [],
   "source": [
    "with open(r\"C:\\umkc\\courses\\pds\\assignments\\Frailty analysis\\results\\results.txt\", 'w') as file:\n",
    "     file.write(f'T-test results:\\n')\n",
    "     file.write(f'T-statistic: {t_test.statistic}\\n')\n",
    "     file.write(f'P-value: {t_test.pvalue}\\n')"
   ]
  }
 ],
 "metadata": {
  "kernelspec": {
   "display_name": "Python 3 (ipykernel)",
   "language": "python",
   "name": "python3"
  },
  "language_info": {
   "codemirror_mode": {
    "name": "ipython",
    "version": 3
   },
   "file_extension": ".py",
   "mimetype": "text/x-python",
   "name": "python",
   "nbconvert_exporter": "python",
   "pygments_lexer": "ipython3",
   "version": "3.10.9"
  }
 },
 "nbformat": 4,
 "nbformat_minor": 5
}
