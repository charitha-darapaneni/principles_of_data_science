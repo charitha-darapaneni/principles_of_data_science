{
 "cells": [
  {
   "cell_type": "code",
   "execution_count": 1,
   "id": "eae6d8fe-60c0-4e50-be3e-46012c457c62",
   "metadata": {},
   "outputs": [],
   "source": [
    "import pandas as pd"
   ]
  },
  {
   "cell_type": "code",
   "execution_count": 4,
   "id": "b440b731-1959-4b70-9e48-3b8dcd570cf4",
   "metadata": {},
   "outputs": [],
   "source": [
    "data = pd.read_csv(r\"C:\\umkc\\courses\\pds\\assignments\\cars\\data_raw\\train.csv\", encoding = \"ISO-8859-1\")"
   ]
  },
  {
   "cell_type": "code",
   "execution_count": 5,
   "id": "b188f595-04d5-4f7a-9258-89f09b858530",
   "metadata": {},
   "outputs": [
    {
     "data": {
      "text/html": [
       "<div>\n",
       "<style scoped>\n",
       "    .dataframe tbody tr th:only-of-type {\n",
       "        vertical-align: middle;\n",
       "    }\n",
       "\n",
       "    .dataframe tbody tr th {\n",
       "        vertical-align: top;\n",
       "    }\n",
       "\n",
       "    .dataframe thead th {\n",
       "        text-align: right;\n",
       "    }\n",
       "</style>\n",
       "<table border=\"1\" class=\"dataframe\">\n",
       "  <thead>\n",
       "    <tr style=\"text-align: right;\">\n",
       "      <th></th>\n",
       "      <th>Name</th>\n",
       "      <th>Location</th>\n",
       "      <th>Year</th>\n",
       "      <th>Kilometers_Driven</th>\n",
       "      <th>Fuel_Type</th>\n",
       "      <th>Transmission</th>\n",
       "      <th>Owner_Type</th>\n",
       "      <th>Mileage</th>\n",
       "      <th>Engine</th>\n",
       "      <th>Power</th>\n",
       "      <th>Seats</th>\n",
       "      <th>New_Price</th>\n",
       "      <th>Price</th>\n",
       "    </tr>\n",
       "  </thead>\n",
       "  <tbody>\n",
       "    <tr>\n",
       "      <th>0</th>\n",
       "      <td>Hyundai Creta 1.6 CRDi SX Option</td>\n",
       "      <td>Pune</td>\n",
       "      <td>2015</td>\n",
       "      <td>41000</td>\n",
       "      <td>Diesel</td>\n",
       "      <td>Manual</td>\n",
       "      <td>First</td>\n",
       "      <td>19.67 kmpl</td>\n",
       "      <td>1582 CC</td>\n",
       "      <td>126.2 bhp</td>\n",
       "      <td>5.0</td>\n",
       "      <td>NaN</td>\n",
       "      <td>12.50</td>\n",
       "    </tr>\n",
       "    <tr>\n",
       "      <th>1</th>\n",
       "      <td>Honda Jazz V</td>\n",
       "      <td>Chennai</td>\n",
       "      <td>2011</td>\n",
       "      <td>46000</td>\n",
       "      <td>Petrol</td>\n",
       "      <td>Manual</td>\n",
       "      <td>First</td>\n",
       "      <td>13 km/kg</td>\n",
       "      <td>1199 CC</td>\n",
       "      <td>88.7 bhp</td>\n",
       "      <td>5.0</td>\n",
       "      <td>8.61 Lakh</td>\n",
       "      <td>4.50</td>\n",
       "    </tr>\n",
       "    <tr>\n",
       "      <th>2</th>\n",
       "      <td>Maruti Ertiga VDI</td>\n",
       "      <td>Chennai</td>\n",
       "      <td>2012</td>\n",
       "      <td>87000</td>\n",
       "      <td>Diesel</td>\n",
       "      <td>Manual</td>\n",
       "      <td>First</td>\n",
       "      <td>20.77 kmpl</td>\n",
       "      <td>1248 CC</td>\n",
       "      <td>88.76 bhp</td>\n",
       "      <td>7.0</td>\n",
       "      <td>NaN</td>\n",
       "      <td>6.00</td>\n",
       "    </tr>\n",
       "    <tr>\n",
       "      <th>3</th>\n",
       "      <td>Audi A4 New 2.0 TDI Multitronic</td>\n",
       "      <td>Coimbatore</td>\n",
       "      <td>2013</td>\n",
       "      <td>40670</td>\n",
       "      <td>Diesel</td>\n",
       "      <td>Automatic</td>\n",
       "      <td>Second</td>\n",
       "      <td>15.2 kmpl</td>\n",
       "      <td>1968 CC</td>\n",
       "      <td>140.8 bhp</td>\n",
       "      <td>5.0</td>\n",
       "      <td>NaN</td>\n",
       "      <td>17.74</td>\n",
       "    </tr>\n",
       "    <tr>\n",
       "      <th>4</th>\n",
       "      <td>Nissan Micra Diesel XV</td>\n",
       "      <td>Jaipur</td>\n",
       "      <td>2013</td>\n",
       "      <td>86999</td>\n",
       "      <td>Diesel</td>\n",
       "      <td>Manual</td>\n",
       "      <td>First</td>\n",
       "      <td>23.08 kmpl</td>\n",
       "      <td>1461 CC</td>\n",
       "      <td>63.1 bhp</td>\n",
       "      <td>5.0</td>\n",
       "      <td>NaN</td>\n",
       "      <td>3.50</td>\n",
       "    </tr>\n",
       "  </tbody>\n",
       "</table>\n",
       "</div>"
      ],
      "text/plain": [
       "                               Name    Location  Year  Kilometers_Driven  \\\n",
       "0  Hyundai Creta 1.6 CRDi SX Option        Pune  2015              41000   \n",
       "1                      Honda Jazz V     Chennai  2011              46000   \n",
       "2                 Maruti Ertiga VDI     Chennai  2012              87000   \n",
       "3   Audi A4 New 2.0 TDI Multitronic  Coimbatore  2013              40670   \n",
       "4            Nissan Micra Diesel XV      Jaipur  2013              86999   \n",
       "\n",
       "  Fuel_Type Transmission Owner_Type     Mileage   Engine      Power  Seats  \\\n",
       "0    Diesel       Manual      First  19.67 kmpl  1582 CC  126.2 bhp    5.0   \n",
       "1    Petrol       Manual      First    13 km/kg  1199 CC   88.7 bhp    5.0   \n",
       "2    Diesel       Manual      First  20.77 kmpl  1248 CC  88.76 bhp    7.0   \n",
       "3    Diesel    Automatic     Second   15.2 kmpl  1968 CC  140.8 bhp    5.0   \n",
       "4    Diesel       Manual      First  23.08 kmpl  1461 CC   63.1 bhp    5.0   \n",
       "\n",
       "   New_Price  Price  \n",
       "0        NaN  12.50  \n",
       "1  8.61 Lakh   4.50  \n",
       "2        NaN   6.00  \n",
       "3        NaN  17.74  \n",
       "4        NaN   3.50  "
      ]
     },
     "execution_count": 5,
     "metadata": {},
     "output_type": "execute_result"
    }
   ],
   "source": [
    "data.head()"
   ]
  },
  {
   "cell_type": "markdown",
   "id": "ee0fdd79-0b96-489c-9621-3cce4504a9df",
   "metadata": {},
   "source": [
    "### Missing values"
   ]
  },
  {
   "cell_type": "markdown",
   "id": "15d28dba-0b73-45fe-a615-d985ade61d29",
   "metadata": {},
   "source": [
    "It is observed that mileage has significantly less number of rows having missing values so dropping those rows. Similarly in Engine, Power, Seats. Since they are significant values that are necessary for getting the price to sell the car. "
   ]
  },
  {
   "cell_type": "code",
   "execution_count": 8,
   "id": "b49add86-8f86-463e-9e69-18f581fe7370",
   "metadata": {},
   "outputs": [],
   "source": [
    "data.dropna(subset=['Mileage'], inplace=True)"
   ]
  },
  {
   "cell_type": "code",
   "execution_count": 10,
   "id": "76f4107b-78ec-4abf-8648-d2f59d768f8c",
   "metadata": {},
   "outputs": [
    {
     "data": {
      "text/plain": [
       "False"
      ]
     },
     "execution_count": 10,
     "metadata": {},
     "output_type": "execute_result"
    }
   ],
   "source": [
    "data['Mileage'].isnull().any()"
   ]
  },
  {
   "cell_type": "code",
   "execution_count": 11,
   "id": "d8c300b5-f7c7-44af-8708-2d4c6c7001a6",
   "metadata": {},
   "outputs": [],
   "source": [
    "data.dropna(subset=['Engine', 'Power', 'Seats'], inplace=True)"
   ]
  },
  {
   "cell_type": "code",
   "execution_count": 12,
   "id": "3fd21252-32da-46d2-87a0-c4e453079fef",
   "metadata": {},
   "outputs": [
    {
     "data": {
      "text/plain": [
       "False"
      ]
     },
     "execution_count": 12,
     "metadata": {},
     "output_type": "execute_result"
    }
   ],
   "source": [
    "data['Engine'].isnull().any()"
   ]
  },
  {
   "cell_type": "code",
   "execution_count": 13,
   "id": "6cd8eec3-8c54-4b7e-bcf7-aca1b410b5be",
   "metadata": {},
   "outputs": [
    {
     "data": {
      "text/plain": [
       "False"
      ]
     },
     "execution_count": 13,
     "metadata": {},
     "output_type": "execute_result"
    }
   ],
   "source": [
    "data['Power'].isnull().any()"
   ]
  },
  {
   "cell_type": "code",
   "execution_count": 14,
   "id": "a89c23cf-8deb-438f-bb27-494f73dc8b3d",
   "metadata": {},
   "outputs": [
    {
     "data": {
      "text/plain": [
       "False"
      ]
     },
     "execution_count": 14,
     "metadata": {},
     "output_type": "execute_result"
    }
   ],
   "source": [
    "data['Seats'].isnull().any()"
   ]
  },
  {
   "cell_type": "markdown",
   "id": "d1b9df32-6b23-4aa6-8ce0-a041cc471980",
   "metadata": {},
   "source": [
    "Filling the empty cells in new_price with 0, indicating there is no price given."
   ]
  },
  {
   "cell_type": "code",
   "execution_count": 15,
   "id": "b4d9db62-a4c7-4a38-92e2-1f5ab0af5663",
   "metadata": {},
   "outputs": [],
   "source": [
    "data['New_Price'].fillna(0,inplace=True)"
   ]
  },
  {
   "cell_type": "code",
   "execution_count": 16,
   "id": "92e39886-f8d1-439a-ac1e-7f14d7d6a164",
   "metadata": {},
   "outputs": [
    {
     "data": {
      "text/plain": [
       "False"
      ]
     },
     "execution_count": 16,
     "metadata": {},
     "output_type": "execute_result"
    }
   ],
   "source": [
    "data['New_Price'].isnull().any()"
   ]
  },
  {
   "cell_type": "markdown",
   "id": "79430ee1-a61b-46c5-8584-27f484750e91",
   "metadata": {},
   "source": [
    "### Removing units"
   ]
  },
  {
   "cell_type": "markdown",
   "id": "ed259478-3fd6-4b63-a7b8-5061d2be8c51",
   "metadata": {},
   "source": [
    "In Mileage, few cells have different units. Converting them to kmpl and removing the units"
   ]
  },
  {
   "cell_type": "code",
   "execution_count": 21,
   "id": "5182c5e4-3540-4d0e-ade8-b7f6e7bb632b",
   "metadata": {},
   "outputs": [],
   "source": [
    "new_mileage = []\n",
    "for i in data.Mileage:\n",
    "    if 'km/kg' in i:\n",
    "        j = float(i.replace(' km/kg', '').strip()) * 1.40\n",
    "        new_mileage.append(float(j))\n",
    "    else:\n",
    "        j = float(i.replace(' kmpl', '').strip())\n",
    "        new_mileage.append(float(j))"
   ]
  },
  {
   "cell_type": "code",
   "execution_count": 23,
   "id": "7d4f3a40-4145-4615-ade2-c7212b3eff64",
   "metadata": {},
   "outputs": [],
   "source": [
    "data['Mileage'] = new_mileage"
   ]
  },
  {
   "cell_type": "code",
   "execution_count": 24,
   "id": "58661af3-3c8d-4991-b3a5-88b8546b16c2",
   "metadata": {},
   "outputs": [],
   "source": [
    "new_cc = []\n",
    "for i in data.Engine:\n",
    "    j=i.replace(' CC','').strip()\n",
    "    new_cc.append(j)"
   ]
  },
  {
   "cell_type": "code",
   "execution_count": 26,
   "id": "a55cb3d1-a553-4c1b-94f7-7d941b32e6d0",
   "metadata": {},
   "outputs": [],
   "source": [
    "data['Engine'] = new_cc"
   ]
  },
  {
   "cell_type": "code",
   "execution_count": 27,
   "id": "a176273e-0e59-43c3-8593-9d4817a9a01b",
   "metadata": {},
   "outputs": [],
   "source": [
    "new_bhp = []\n",
    "for i in data.Power:\n",
    "    j=i.replace(' bhp','').strip()\n",
    "    new_bhp.append(j)"
   ]
  },
  {
   "cell_type": "code",
   "execution_count": 29,
   "id": "e3b7d275-1278-465b-8845-0b25ece57344",
   "metadata": {},
   "outputs": [],
   "source": [
    "data['Power']=new_bhp"
   ]
  },
  {
   "cell_type": "code",
   "execution_count": 35,
   "id": "cc72ec2b-8401-4a66-baa5-71003c598514",
   "metadata": {},
   "outputs": [],
   "source": [
    "new_p = []\n",
    "for i in data.New_Price:\n",
    "    if isinstance(i, str):\n",
    "        if 'Cr' in i:\n",
    "            j = float(i.replace(' Cr', '').strip()) * 100\n",
    "            new_p.append(float(j))\n",
    "        else:\n",
    "            j = float(i.replace(' Lakh', '').strip())\n",
    "            new_p.append(float(j))\n",
    "    else:\n",
    "        new_p.append(float(i))"
   ]
  },
  {
   "cell_type": "code",
   "execution_count": 41,
   "id": "ff3e527e-1469-4908-8286-1d1a7f7eea0d",
   "metadata": {},
   "outputs": [],
   "source": [
    "data['New_Price'] = new_p"
   ]
  },
  {
   "cell_type": "markdown",
   "id": "84f0294d-e954-4baa-9d31-c3e7006ef22f",
   "metadata": {},
   "source": [
    "### Categorical Variables"
   ]
  },
  {
   "cell_type": "code",
   "execution_count": 69,
   "id": "ffdf3537-d26b-4873-93eb-bf2a0546e426",
   "metadata": {},
   "outputs": [],
   "source": [
    "data1 = data"
   ]
  },
  {
   "cell_type": "code",
   "execution_count": 70,
   "id": "dd637f7b-58c2-40cb-9b95-313ad1637a75",
   "metadata": {},
   "outputs": [
    {
     "data": {
      "text/html": [
       "<div>\n",
       "<style scoped>\n",
       "    .dataframe tbody tr th:only-of-type {\n",
       "        vertical-align: middle;\n",
       "    }\n",
       "\n",
       "    .dataframe tbody tr th {\n",
       "        vertical-align: top;\n",
       "    }\n",
       "\n",
       "    .dataframe thead th {\n",
       "        text-align: right;\n",
       "    }\n",
       "</style>\n",
       "<table border=\"1\" class=\"dataframe\">\n",
       "  <thead>\n",
       "    <tr style=\"text-align: right;\">\n",
       "      <th></th>\n",
       "      <th>Name</th>\n",
       "      <th>Location</th>\n",
       "      <th>Year</th>\n",
       "      <th>Kilometers_Driven</th>\n",
       "      <th>Fuel_Type</th>\n",
       "      <th>Transmission</th>\n",
       "      <th>Owner_Type</th>\n",
       "      <th>Mileage</th>\n",
       "      <th>Engine</th>\n",
       "      <th>Power</th>\n",
       "      <th>Seats</th>\n",
       "      <th>New_Price</th>\n",
       "      <th>Price</th>\n",
       "    </tr>\n",
       "  </thead>\n",
       "  <tbody>\n",
       "    <tr>\n",
       "      <th>0</th>\n",
       "      <td>Hyundai Creta 1.6 CRDi SX Option</td>\n",
       "      <td>Pune</td>\n",
       "      <td>2015</td>\n",
       "      <td>41000</td>\n",
       "      <td>Diesel</td>\n",
       "      <td>Manual</td>\n",
       "      <td>First</td>\n",
       "      <td>19.67</td>\n",
       "      <td>1582</td>\n",
       "      <td>126.2</td>\n",
       "      <td>5.0</td>\n",
       "      <td>0.00</td>\n",
       "      <td>12.50</td>\n",
       "    </tr>\n",
       "    <tr>\n",
       "      <th>1</th>\n",
       "      <td>Honda Jazz V</td>\n",
       "      <td>Chennai</td>\n",
       "      <td>2011</td>\n",
       "      <td>46000</td>\n",
       "      <td>Petrol</td>\n",
       "      <td>Manual</td>\n",
       "      <td>First</td>\n",
       "      <td>18.20</td>\n",
       "      <td>1199</td>\n",
       "      <td>88.7</td>\n",
       "      <td>5.0</td>\n",
       "      <td>8.61</td>\n",
       "      <td>4.50</td>\n",
       "    </tr>\n",
       "    <tr>\n",
       "      <th>2</th>\n",
       "      <td>Maruti Ertiga VDI</td>\n",
       "      <td>Chennai</td>\n",
       "      <td>2012</td>\n",
       "      <td>87000</td>\n",
       "      <td>Diesel</td>\n",
       "      <td>Manual</td>\n",
       "      <td>First</td>\n",
       "      <td>20.77</td>\n",
       "      <td>1248</td>\n",
       "      <td>88.76</td>\n",
       "      <td>7.0</td>\n",
       "      <td>0.00</td>\n",
       "      <td>6.00</td>\n",
       "    </tr>\n",
       "    <tr>\n",
       "      <th>3</th>\n",
       "      <td>Audi A4 New 2.0 TDI Multitronic</td>\n",
       "      <td>Coimbatore</td>\n",
       "      <td>2013</td>\n",
       "      <td>40670</td>\n",
       "      <td>Diesel</td>\n",
       "      <td>Automatic</td>\n",
       "      <td>Second</td>\n",
       "      <td>15.20</td>\n",
       "      <td>1968</td>\n",
       "      <td>140.8</td>\n",
       "      <td>5.0</td>\n",
       "      <td>0.00</td>\n",
       "      <td>17.74</td>\n",
       "    </tr>\n",
       "    <tr>\n",
       "      <th>4</th>\n",
       "      <td>Nissan Micra Diesel XV</td>\n",
       "      <td>Jaipur</td>\n",
       "      <td>2013</td>\n",
       "      <td>86999</td>\n",
       "      <td>Diesel</td>\n",
       "      <td>Manual</td>\n",
       "      <td>First</td>\n",
       "      <td>23.08</td>\n",
       "      <td>1461</td>\n",
       "      <td>63.1</td>\n",
       "      <td>5.0</td>\n",
       "      <td>0.00</td>\n",
       "      <td>3.50</td>\n",
       "    </tr>\n",
       "  </tbody>\n",
       "</table>\n",
       "</div>"
      ],
      "text/plain": [
       "                               Name    Location  Year  Kilometers_Driven  \\\n",
       "0  Hyundai Creta 1.6 CRDi SX Option        Pune  2015              41000   \n",
       "1                      Honda Jazz V     Chennai  2011              46000   \n",
       "2                 Maruti Ertiga VDI     Chennai  2012              87000   \n",
       "3   Audi A4 New 2.0 TDI Multitronic  Coimbatore  2013              40670   \n",
       "4            Nissan Micra Diesel XV      Jaipur  2013              86999   \n",
       "\n",
       "  Fuel_Type Transmission Owner_Type  Mileage Engine  Power  Seats  New_Price  \\\n",
       "0    Diesel       Manual      First    19.67   1582  126.2    5.0       0.00   \n",
       "1    Petrol       Manual      First    18.20   1199   88.7    5.0       8.61   \n",
       "2    Diesel       Manual      First    20.77   1248  88.76    7.0       0.00   \n",
       "3    Diesel    Automatic     Second    15.20   1968  140.8    5.0       0.00   \n",
       "4    Diesel       Manual      First    23.08   1461   63.1    5.0       0.00   \n",
       "\n",
       "   Price  \n",
       "0  12.50  \n",
       "1   4.50  \n",
       "2   6.00  \n",
       "3  17.74  \n",
       "4   3.50  "
      ]
     },
     "execution_count": 70,
     "metadata": {},
     "output_type": "execute_result"
    }
   ],
   "source": [
    "data1.head()"
   ]
  },
  {
   "cell_type": "code",
   "execution_count": 73,
   "id": "c92a47fb-8405-4403-b835-47321383a153",
   "metadata": {},
   "outputs": [],
   "source": [
    "data = pd.get_dummies(data, columns=['Fuel_Type'])"
   ]
  },
  {
   "cell_type": "code",
   "execution_count": 76,
   "id": "3b3f9ddf-f738-4825-aaf0-a523a2c2f881",
   "metadata": {},
   "outputs": [
    {
     "data": {
      "text/plain": [
       "Index(['Name', 'Location', 'Year', 'Kilometers_Driven', 'Owner_Type',\n",
       "       'Mileage', 'Engine', 'Power', 'Seats', 'New_Price', 'Price',\n",
       "       'Fuel_Type_Diesel', 'Fuel_Type_Petrol', 'Transmission_Automatic',\n",
       "       'Transmission_Manual'],\n",
       "      dtype='object')"
      ]
     },
     "execution_count": 76,
     "metadata": {},
     "output_type": "execute_result"
    }
   ],
   "source": [
    "data.columns"
   ]
  },
  {
   "cell_type": "code",
   "execution_count": 75,
   "id": "61c19f56-ed39-4187-946e-560bb9376413",
   "metadata": {},
   "outputs": [],
   "source": [
    "data = pd.get_dummies(data, columns=['Transmission'])"
   ]
  },
  {
   "cell_type": "code",
   "execution_count": 77,
   "id": "ba29f083-25b5-461c-afe8-a45f3af34b9e",
   "metadata": {},
   "outputs": [
    {
     "data": {
      "text/html": [
       "<div>\n",
       "<style scoped>\n",
       "    .dataframe tbody tr th:only-of-type {\n",
       "        vertical-align: middle;\n",
       "    }\n",
       "\n",
       "    .dataframe tbody tr th {\n",
       "        vertical-align: top;\n",
       "    }\n",
       "\n",
       "    .dataframe thead th {\n",
       "        text-align: right;\n",
       "    }\n",
       "</style>\n",
       "<table border=\"1\" class=\"dataframe\">\n",
       "  <thead>\n",
       "    <tr style=\"text-align: right;\">\n",
       "      <th></th>\n",
       "      <th>Name</th>\n",
       "      <th>Location</th>\n",
       "      <th>Year</th>\n",
       "      <th>Kilometers_Driven</th>\n",
       "      <th>Owner_Type</th>\n",
       "      <th>Mileage</th>\n",
       "      <th>Engine</th>\n",
       "      <th>Power</th>\n",
       "      <th>Seats</th>\n",
       "      <th>New_Price</th>\n",
       "      <th>Price</th>\n",
       "      <th>Fuel_Type_Diesel</th>\n",
       "      <th>Fuel_Type_Petrol</th>\n",
       "      <th>Transmission_Automatic</th>\n",
       "      <th>Transmission_Manual</th>\n",
       "    </tr>\n",
       "  </thead>\n",
       "  <tbody>\n",
       "    <tr>\n",
       "      <th>0</th>\n",
       "      <td>Hyundai Creta 1.6 CRDi SX Option</td>\n",
       "      <td>Pune</td>\n",
       "      <td>2015</td>\n",
       "      <td>41000</td>\n",
       "      <td>First</td>\n",
       "      <td>19.67</td>\n",
       "      <td>1582</td>\n",
       "      <td>126.2</td>\n",
       "      <td>5.0</td>\n",
       "      <td>0.00</td>\n",
       "      <td>12.50</td>\n",
       "      <td>1</td>\n",
       "      <td>0</td>\n",
       "      <td>0</td>\n",
       "      <td>1</td>\n",
       "    </tr>\n",
       "    <tr>\n",
       "      <th>1</th>\n",
       "      <td>Honda Jazz V</td>\n",
       "      <td>Chennai</td>\n",
       "      <td>2011</td>\n",
       "      <td>46000</td>\n",
       "      <td>First</td>\n",
       "      <td>18.20</td>\n",
       "      <td>1199</td>\n",
       "      <td>88.7</td>\n",
       "      <td>5.0</td>\n",
       "      <td>8.61</td>\n",
       "      <td>4.50</td>\n",
       "      <td>0</td>\n",
       "      <td>1</td>\n",
       "      <td>0</td>\n",
       "      <td>1</td>\n",
       "    </tr>\n",
       "    <tr>\n",
       "      <th>2</th>\n",
       "      <td>Maruti Ertiga VDI</td>\n",
       "      <td>Chennai</td>\n",
       "      <td>2012</td>\n",
       "      <td>87000</td>\n",
       "      <td>First</td>\n",
       "      <td>20.77</td>\n",
       "      <td>1248</td>\n",
       "      <td>88.76</td>\n",
       "      <td>7.0</td>\n",
       "      <td>0.00</td>\n",
       "      <td>6.00</td>\n",
       "      <td>1</td>\n",
       "      <td>0</td>\n",
       "      <td>0</td>\n",
       "      <td>1</td>\n",
       "    </tr>\n",
       "    <tr>\n",
       "      <th>3</th>\n",
       "      <td>Audi A4 New 2.0 TDI Multitronic</td>\n",
       "      <td>Coimbatore</td>\n",
       "      <td>2013</td>\n",
       "      <td>40670</td>\n",
       "      <td>Second</td>\n",
       "      <td>15.20</td>\n",
       "      <td>1968</td>\n",
       "      <td>140.8</td>\n",
       "      <td>5.0</td>\n",
       "      <td>0.00</td>\n",
       "      <td>17.74</td>\n",
       "      <td>1</td>\n",
       "      <td>0</td>\n",
       "      <td>1</td>\n",
       "      <td>0</td>\n",
       "    </tr>\n",
       "    <tr>\n",
       "      <th>4</th>\n",
       "      <td>Nissan Micra Diesel XV</td>\n",
       "      <td>Jaipur</td>\n",
       "      <td>2013</td>\n",
       "      <td>86999</td>\n",
       "      <td>First</td>\n",
       "      <td>23.08</td>\n",
       "      <td>1461</td>\n",
       "      <td>63.1</td>\n",
       "      <td>5.0</td>\n",
       "      <td>0.00</td>\n",
       "      <td>3.50</td>\n",
       "      <td>1</td>\n",
       "      <td>0</td>\n",
       "      <td>0</td>\n",
       "      <td>1</td>\n",
       "    </tr>\n",
       "  </tbody>\n",
       "</table>\n",
       "</div>"
      ],
      "text/plain": [
       "                               Name    Location  Year  Kilometers_Driven  \\\n",
       "0  Hyundai Creta 1.6 CRDi SX Option        Pune  2015              41000   \n",
       "1                      Honda Jazz V     Chennai  2011              46000   \n",
       "2                 Maruti Ertiga VDI     Chennai  2012              87000   \n",
       "3   Audi A4 New 2.0 TDI Multitronic  Coimbatore  2013              40670   \n",
       "4            Nissan Micra Diesel XV      Jaipur  2013              86999   \n",
       "\n",
       "  Owner_Type  Mileage Engine  Power  Seats  New_Price  Price  \\\n",
       "0      First    19.67   1582  126.2    5.0       0.00  12.50   \n",
       "1      First    18.20   1199   88.7    5.0       8.61   4.50   \n",
       "2      First    20.77   1248  88.76    7.0       0.00   6.00   \n",
       "3     Second    15.20   1968  140.8    5.0       0.00  17.74   \n",
       "4      First    23.08   1461   63.1    5.0       0.00   3.50   \n",
       "\n",
       "   Fuel_Type_Diesel  Fuel_Type_Petrol  Transmission_Automatic  \\\n",
       "0                 1                 0                       0   \n",
       "1                 0                 1                       0   \n",
       "2                 1                 0                       0   \n",
       "3                 1                 0                       1   \n",
       "4                 1                 0                       0   \n",
       "\n",
       "   Transmission_Manual  \n",
       "0                    1  \n",
       "1                    1  \n",
       "2                    1  \n",
       "3                    0  \n",
       "4                    1  "
      ]
     },
     "execution_count": 77,
     "metadata": {},
     "output_type": "execute_result"
    }
   ],
   "source": [
    "data.head()"
   ]
  },
  {
   "cell_type": "markdown",
   "id": "d874e3e5-3cd8-4ece-88ca-c990d9d86ab9",
   "metadata": {},
   "source": [
    "### Adding new column"
   ]
  },
  {
   "cell_type": "code",
   "execution_count": 78,
   "id": "8e738a6e-1239-4c6d-b3b0-37756cd21d68",
   "metadata": {},
   "outputs": [],
   "source": [
    "current_year = []\n",
    "for i in data.Year:\n",
    "    y = 2023-i\n",
    "    current_year.append(y)"
   ]
  },
  {
   "cell_type": "code",
   "execution_count": 80,
   "id": "1e9caee4-7bfa-4e32-93bd-3b7df2b7f276",
   "metadata": {},
   "outputs": [],
   "source": [
    "data['age']=current_year"
   ]
  },
  {
   "cell_type": "code",
   "execution_count": 81,
   "id": "55ed2fdf-ebc8-426b-9775-987c680b854e",
   "metadata": {},
   "outputs": [
    {
     "data": {
      "text/html": [
       "<div>\n",
       "<style scoped>\n",
       "    .dataframe tbody tr th:only-of-type {\n",
       "        vertical-align: middle;\n",
       "    }\n",
       "\n",
       "    .dataframe tbody tr th {\n",
       "        vertical-align: top;\n",
       "    }\n",
       "\n",
       "    .dataframe thead th {\n",
       "        text-align: right;\n",
       "    }\n",
       "</style>\n",
       "<table border=\"1\" class=\"dataframe\">\n",
       "  <thead>\n",
       "    <tr style=\"text-align: right;\">\n",
       "      <th></th>\n",
       "      <th>Name</th>\n",
       "      <th>Location</th>\n",
       "      <th>Year</th>\n",
       "      <th>Kilometers_Driven</th>\n",
       "      <th>Owner_Type</th>\n",
       "      <th>Mileage</th>\n",
       "      <th>Engine</th>\n",
       "      <th>Power</th>\n",
       "      <th>Seats</th>\n",
       "      <th>New_Price</th>\n",
       "      <th>Price</th>\n",
       "      <th>Fuel_Type_Diesel</th>\n",
       "      <th>Fuel_Type_Petrol</th>\n",
       "      <th>Transmission_Automatic</th>\n",
       "      <th>Transmission_Manual</th>\n",
       "      <th>age</th>\n",
       "    </tr>\n",
       "  </thead>\n",
       "  <tbody>\n",
       "    <tr>\n",
       "      <th>0</th>\n",
       "      <td>Hyundai Creta 1.6 CRDi SX Option</td>\n",
       "      <td>Pune</td>\n",
       "      <td>2015</td>\n",
       "      <td>41000</td>\n",
       "      <td>First</td>\n",
       "      <td>19.67</td>\n",
       "      <td>1582</td>\n",
       "      <td>126.2</td>\n",
       "      <td>5.0</td>\n",
       "      <td>0.00</td>\n",
       "      <td>12.50</td>\n",
       "      <td>1</td>\n",
       "      <td>0</td>\n",
       "      <td>0</td>\n",
       "      <td>1</td>\n",
       "      <td>8</td>\n",
       "    </tr>\n",
       "    <tr>\n",
       "      <th>1</th>\n",
       "      <td>Honda Jazz V</td>\n",
       "      <td>Chennai</td>\n",
       "      <td>2011</td>\n",
       "      <td>46000</td>\n",
       "      <td>First</td>\n",
       "      <td>18.20</td>\n",
       "      <td>1199</td>\n",
       "      <td>88.7</td>\n",
       "      <td>5.0</td>\n",
       "      <td>8.61</td>\n",
       "      <td>4.50</td>\n",
       "      <td>0</td>\n",
       "      <td>1</td>\n",
       "      <td>0</td>\n",
       "      <td>1</td>\n",
       "      <td>12</td>\n",
       "    </tr>\n",
       "    <tr>\n",
       "      <th>2</th>\n",
       "      <td>Maruti Ertiga VDI</td>\n",
       "      <td>Chennai</td>\n",
       "      <td>2012</td>\n",
       "      <td>87000</td>\n",
       "      <td>First</td>\n",
       "      <td>20.77</td>\n",
       "      <td>1248</td>\n",
       "      <td>88.76</td>\n",
       "      <td>7.0</td>\n",
       "      <td>0.00</td>\n",
       "      <td>6.00</td>\n",
       "      <td>1</td>\n",
       "      <td>0</td>\n",
       "      <td>0</td>\n",
       "      <td>1</td>\n",
       "      <td>11</td>\n",
       "    </tr>\n",
       "    <tr>\n",
       "      <th>3</th>\n",
       "      <td>Audi A4 New 2.0 TDI Multitronic</td>\n",
       "      <td>Coimbatore</td>\n",
       "      <td>2013</td>\n",
       "      <td>40670</td>\n",
       "      <td>Second</td>\n",
       "      <td>15.20</td>\n",
       "      <td>1968</td>\n",
       "      <td>140.8</td>\n",
       "      <td>5.0</td>\n",
       "      <td>0.00</td>\n",
       "      <td>17.74</td>\n",
       "      <td>1</td>\n",
       "      <td>0</td>\n",
       "      <td>1</td>\n",
       "      <td>0</td>\n",
       "      <td>10</td>\n",
       "    </tr>\n",
       "    <tr>\n",
       "      <th>4</th>\n",
       "      <td>Nissan Micra Diesel XV</td>\n",
       "      <td>Jaipur</td>\n",
       "      <td>2013</td>\n",
       "      <td>86999</td>\n",
       "      <td>First</td>\n",
       "      <td>23.08</td>\n",
       "      <td>1461</td>\n",
       "      <td>63.1</td>\n",
       "      <td>5.0</td>\n",
       "      <td>0.00</td>\n",
       "      <td>3.50</td>\n",
       "      <td>1</td>\n",
       "      <td>0</td>\n",
       "      <td>0</td>\n",
       "      <td>1</td>\n",
       "      <td>10</td>\n",
       "    </tr>\n",
       "  </tbody>\n",
       "</table>\n",
       "</div>"
      ],
      "text/plain": [
       "                               Name    Location  Year  Kilometers_Driven  \\\n",
       "0  Hyundai Creta 1.6 CRDi SX Option        Pune  2015              41000   \n",
       "1                      Honda Jazz V     Chennai  2011              46000   \n",
       "2                 Maruti Ertiga VDI     Chennai  2012              87000   \n",
       "3   Audi A4 New 2.0 TDI Multitronic  Coimbatore  2013              40670   \n",
       "4            Nissan Micra Diesel XV      Jaipur  2013              86999   \n",
       "\n",
       "  Owner_Type  Mileage Engine  Power  Seats  New_Price  Price  \\\n",
       "0      First    19.67   1582  126.2    5.0       0.00  12.50   \n",
       "1      First    18.20   1199   88.7    5.0       8.61   4.50   \n",
       "2      First    20.77   1248  88.76    7.0       0.00   6.00   \n",
       "3     Second    15.20   1968  140.8    5.0       0.00  17.74   \n",
       "4      First    23.08   1461   63.1    5.0       0.00   3.50   \n",
       "\n",
       "   Fuel_Type_Diesel  Fuel_Type_Petrol  Transmission_Automatic  \\\n",
       "0                 1                 0                       0   \n",
       "1                 0                 1                       0   \n",
       "2                 1                 0                       0   \n",
       "3                 1                 0                       1   \n",
       "4                 1                 0                       0   \n",
       "\n",
       "   Transmission_Manual  age  \n",
       "0                    1    8  \n",
       "1                    1   12  \n",
       "2                    1   11  \n",
       "3                    0   10  \n",
       "4                    1   10  "
      ]
     },
     "execution_count": 81,
     "metadata": {},
     "output_type": "execute_result"
    }
   ],
   "source": [
    "data.head()"
   ]
  },
  {
   "cell_type": "code",
   "execution_count": 82,
   "id": "7cdc83a9-2f5d-4163-ba48-a1d106ae9a95",
   "metadata": {},
   "outputs": [],
   "source": [
    "data.to_csv(\"data_clean.csv\", index=\"False\", encoding=\"ISO-8859-1\")"
   ]
  },
  {
   "cell_type": "code",
   "execution_count": null,
   "id": "d9eaf08b-62b6-4656-8b85-8eca795b1d44",
   "metadata": {},
   "outputs": [],
   "source": []
  }
 ],
 "metadata": {
  "kernelspec": {
   "display_name": "Python 3 (ipykernel)",
   "language": "python",
   "name": "python3"
  },
  "language_info": {
   "codemirror_mode": {
    "name": "ipython",
    "version": 3
   },
   "file_extension": ".py",
   "mimetype": "text/x-python",
   "name": "python",
   "nbconvert_exporter": "python",
   "pygments_lexer": "ipython3",
   "version": "3.10.9"
  }
 },
 "nbformat": 4,
 "nbformat_minor": 5
}
